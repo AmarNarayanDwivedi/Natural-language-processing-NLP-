{
  "cells": [
    {
      "cell_type": "markdown",
      "metadata": {
        "id": "view-in-github",
        "colab_type": "text"
      },
      "source": [
        "<a href=\"https://colab.research.google.com/github/AmarNarayanDwivedi/Natural-language-processing-NLP-/blob/main/Tokenization.ipynb\" target=\"_parent\"><img src=\"https://colab.research.google.com/assets/colab-badge.svg\" alt=\"Open In Colab\"/></a>"
      ]
    },
    {
      "cell_type": "code",
      "execution_count": 23,
      "metadata": {
        "colab": {
          "base_uri": "https://localhost:8080/"
        },
        "id": "Uoi3zExkkjHT",
        "outputId": "b9edbbdb-6357-4de7-dfd4-563b39512809"
      },
      "outputs": [
        {
          "output_type": "stream",
          "name": "stdout",
          "text": [
            "Requirement already satisfied: nltk in /usr/local/lib/python3.10/dist-packages (3.9.1)\n",
            "Requirement already satisfied: click in /usr/local/lib/python3.10/dist-packages (from nltk) (8.1.7)\n",
            "Requirement already satisfied: joblib in /usr/local/lib/python3.10/dist-packages (from nltk) (1.4.2)\n",
            "Requirement already satisfied: regex>=2021.8.3 in /usr/local/lib/python3.10/dist-packages (from nltk) (2024.9.11)\n",
            "Requirement already satisfied: tqdm in /usr/local/lib/python3.10/dist-packages (from nltk) (4.66.6)\n"
          ]
        }
      ],
      "source": [
        "pip install nltk"
      ]
    },
    {
      "cell_type": "code",
      "source": [
        "import nltk\n",
        "nltk.download('punkt')\n",
        "nltk.download('punkt_tab')"
      ],
      "metadata": {
        "colab": {
          "base_uri": "https://localhost:8080/"
        },
        "id": "NhDwq3dTtdWR",
        "outputId": "7afe807c-4a29-45b7-ebfb-e0c2e96baff0"
      },
      "execution_count": 30,
      "outputs": [
        {
          "output_type": "stream",
          "name": "stderr",
          "text": [
            "[nltk_data] Downloading package punkt to /root/nltk_data...\n",
            "[nltk_data]   Package punkt is already up-to-date!\n",
            "[nltk_data] Downloading package punkt_tab to /root/nltk_data...\n",
            "[nltk_data]   Package punkt_tab is already up-to-date!\n"
          ]
        },
        {
          "output_type": "execute_result",
          "data": {
            "text/plain": [
              "True"
            ]
          },
          "metadata": {},
          "execution_count": 30
        }
      ]
    },
    {
      "cell_type": "code",
      "execution_count": 25,
      "metadata": {
        "id": "DX4TNxI0kjHb"
      },
      "outputs": [],
      "source": [
        "corpus=\"\"\"Hello my self Amar Narayan Dwivedi.\n",
        " Currently in Central University of Haryana and pursuing B.tech cse.\n",
        "\"\"\""
      ]
    },
    {
      "cell_type": "code",
      "execution_count": 26,
      "metadata": {
        "colab": {
          "base_uri": "https://localhost:8080/"
        },
        "id": "JLE0pnFJkjHc",
        "outputId": "a87e44bf-ef46-4768-a1a1-17ebb43191ef"
      },
      "outputs": [
        {
          "output_type": "stream",
          "name": "stdout",
          "text": [
            "Hello my self Amar Narayan Dwivedi.\n",
            " Currently in Central University of Haryana and pursuing B.tech cse.\n",
            "\n"
          ]
        }
      ],
      "source": [
        "print(corpus)"
      ]
    },
    {
      "cell_type": "code",
      "execution_count": 31,
      "metadata": {
        "id": "HbF-TTaFkjHd"
      },
      "outputs": [],
      "source": [
        "##  Tokenization\n",
        "## Sentence-->paragraphs\n",
        "from nltk.tokenize import sent_tokenize"
      ]
    },
    {
      "cell_type": "code",
      "execution_count": 32,
      "metadata": {
        "id": "aEPClH0fkjHe"
      },
      "outputs": [],
      "source": [
        "documents=sent_tokenize(corpus)"
      ]
    },
    {
      "cell_type": "code",
      "execution_count": 33,
      "metadata": {
        "colab": {
          "base_uri": "https://localhost:8080/"
        },
        "id": "25mAtUMkkjHe",
        "outputId": "a0664661-ce82-4a90-b916-302e3b716253"
      },
      "outputs": [
        {
          "output_type": "execute_result",
          "data": {
            "text/plain": [
              "list"
            ]
          },
          "metadata": {},
          "execution_count": 33
        }
      ],
      "source": [
        "type(documents)"
      ]
    },
    {
      "cell_type": "code",
      "execution_count": 34,
      "metadata": {
        "colab": {
          "base_uri": "https://localhost:8080/"
        },
        "id": "qY5EemyzkjHf",
        "outputId": "258bc9e5-1222-444f-84a0-3eeeb343b596"
      },
      "outputs": [
        {
          "output_type": "stream",
          "name": "stdout",
          "text": [
            "Hello my self Amar Narayan Dwivedi.\n",
            "Currently in Central University of Haryana and pursuing B.tech cse.\n"
          ]
        }
      ],
      "source": [
        "for sentence in documents:\n",
        "    print(sentence)"
      ]
    },
    {
      "cell_type": "code",
      "execution_count": 35,
      "metadata": {
        "id": "7O-VpgVpkjHg"
      },
      "outputs": [],
      "source": [
        "## Tokenization\n",
        "## Paragraph-->words\n",
        "## sentence--->words\n",
        "from nltk.tokenize import word_tokenize"
      ]
    },
    {
      "cell_type": "code",
      "execution_count": 36,
      "metadata": {
        "colab": {
          "base_uri": "https://localhost:8080/"
        },
        "id": "Jq0Gt77SkjHg",
        "outputId": "be394b23-6b28-4aaf-9c12-f9df602264c3"
      },
      "outputs": [
        {
          "output_type": "execute_result",
          "data": {
            "text/plain": [
              "['Hello',\n",
              " 'my',\n",
              " 'self',\n",
              " 'Amar',\n",
              " 'Narayan',\n",
              " 'Dwivedi',\n",
              " '.',\n",
              " 'Currently',\n",
              " 'in',\n",
              " 'Central',\n",
              " 'University',\n",
              " 'of',\n",
              " 'Haryana',\n",
              " 'and',\n",
              " 'pursuing',\n",
              " 'B.tech',\n",
              " 'cse',\n",
              " '.']"
            ]
          },
          "metadata": {},
          "execution_count": 36
        }
      ],
      "source": [
        "word_tokenize(corpus)"
      ]
    },
    {
      "cell_type": "code",
      "execution_count": 37,
      "metadata": {
        "colab": {
          "base_uri": "https://localhost:8080/"
        },
        "id": "gRVRISbMkjHh",
        "outputId": "19284bc7-f95a-44b2-b761-11b8bdd1ea41"
      },
      "outputs": [
        {
          "output_type": "stream",
          "name": "stdout",
          "text": [
            "['Hello', 'my', 'self', 'Amar', 'Narayan', 'Dwivedi', '.']\n",
            "['Currently', 'in', 'Central', 'University', 'of', 'Haryana', 'and', 'pursuing', 'B.tech', 'cse', '.']\n"
          ]
        }
      ],
      "source": [
        "for sentence in documents:\n",
        "    print(word_tokenize(sentence))"
      ]
    },
    {
      "cell_type": "code",
      "execution_count": 38,
      "metadata": {
        "id": "LOueT6IVkjHh"
      },
      "outputs": [],
      "source": [
        "from nltk.tokenize import wordpunct_tokenize"
      ]
    },
    {
      "cell_type": "code",
      "execution_count": 39,
      "metadata": {
        "colab": {
          "base_uri": "https://localhost:8080/"
        },
        "id": "y9oR9IEBkjHi",
        "outputId": "688c33b9-07d9-4bef-c590-ea38c261ba95"
      },
      "outputs": [
        {
          "output_type": "execute_result",
          "data": {
            "text/plain": [
              "['Hello',\n",
              " 'my',\n",
              " 'self',\n",
              " 'Amar',\n",
              " 'Narayan',\n",
              " 'Dwivedi',\n",
              " '.',\n",
              " 'Currently',\n",
              " 'in',\n",
              " 'Central',\n",
              " 'University',\n",
              " 'of',\n",
              " 'Haryana',\n",
              " 'and',\n",
              " 'pursuing',\n",
              " 'B',\n",
              " '.',\n",
              " 'tech',\n",
              " 'cse',\n",
              " '.']"
            ]
          },
          "metadata": {},
          "execution_count": 39
        }
      ],
      "source": [
        "wordpunct_tokenize(corpus)"
      ]
    },
    {
      "cell_type": "code",
      "execution_count": 40,
      "metadata": {
        "id": "8JsLYPiXkjHi"
      },
      "outputs": [],
      "source": [
        "from nltk.tokenize import TreebankWordTokenizer"
      ]
    },
    {
      "cell_type": "code",
      "execution_count": 42,
      "metadata": {
        "id": "cmIXNGkKkjHi"
      },
      "outputs": [],
      "source": [
        "tokenizer=TreebankWordTokenizer()"
      ]
    },
    {
      "cell_type": "code",
      "execution_count": 43,
      "metadata": {
        "colab": {
          "base_uri": "https://localhost:8080/"
        },
        "id": "yxpFocqLkjHj",
        "outputId": "c2d35a24-bad6-4d07-84a7-12c3d6ceb368"
      },
      "outputs": [
        {
          "output_type": "execute_result",
          "data": {
            "text/plain": [
              "['Hello',\n",
              " 'my',\n",
              " 'self',\n",
              " 'Amar',\n",
              " 'Narayan',\n",
              " 'Dwivedi.',\n",
              " 'Currently',\n",
              " 'in',\n",
              " 'Central',\n",
              " 'University',\n",
              " 'of',\n",
              " 'Haryana',\n",
              " 'and',\n",
              " 'pursuing',\n",
              " 'B.tech',\n",
              " 'cse',\n",
              " '.']"
            ]
          },
          "metadata": {},
          "execution_count": 43
        }
      ],
      "source": [
        "tokenizer.tokenize(corpus)"
      ]
    },
    {
      "cell_type": "code",
      "execution_count": null,
      "metadata": {
        "id": "ADrzkB7BkjHj"
      },
      "outputs": [],
      "source": []
    },
    {
      "cell_type": "code",
      "execution_count": null,
      "metadata": {
        "id": "TUfID3SwkjHj"
      },
      "outputs": [],
      "source": []
    },
    {
      "cell_type": "code",
      "execution_count": null,
      "metadata": {
        "id": "Js_pl0smkjHj"
      },
      "outputs": [],
      "source": []
    }
  ],
  "metadata": {
    "kernelspec": {
      "display_name": "Python 3",
      "language": "python",
      "name": "python3"
    },
    "language_info": {
      "codemirror_mode": {
        "name": "ipython",
        "version": 3
      },
      "file_extension": ".py",
      "mimetype": "text/x-python",
      "name": "python",
      "nbconvert_exporter": "python",
      "pygments_lexer": "ipython3",
      "version": "3.8.5"
    },
    "colab": {
      "provenance": [],
      "include_colab_link": true
    }
  },
  "nbformat": 4,
  "nbformat_minor": 0
}